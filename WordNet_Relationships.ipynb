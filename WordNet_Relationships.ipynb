{
  "nbformat": 4,
  "nbformat_minor": 0,
  "metadata": {
    "colab": {
      "provenance": [],
      "toc_visible": true
    },
    "kernelspec": {
      "name": "python3",
      "display_name": "Python 3"
    },
    "language_info": {
      "name": "python"
    }
  },
  "cells": [
    {
      "cell_type": "markdown",
      "source": [
        "### Navigating Wordnet Relationship"
      ],
      "metadata": {
        "id": "WVq2GBA_xnb3"
      }
    },
    {
      "cell_type": "code",
      "execution_count": null,
      "metadata": {
        "colab": {
          "base_uri": "https://localhost:8080/"
        },
        "id": "2UPrWD9UxjQ8",
        "outputId": "a945a73f-c8c4-4816-8ffe-a3ed66474572"
      },
      "outputs": [
        {
          "output_type": "stream",
          "name": "stdout",
          "text": [
            "Looking in indexes: https://pypi.org/simple, https://us-python.pkg.dev/colab-wheels/public/simple/\n",
            "Requirement already satisfied: nltk in /usr/local/lib/python3.10/dist-packages (3.8.1)\n",
            "Requirement already satisfied: click in /usr/local/lib/python3.10/dist-packages (from nltk) (8.1.3)\n",
            "Requirement already satisfied: joblib in /usr/local/lib/python3.10/dist-packages (from nltk) (1.2.0)\n",
            "Requirement already satisfied: regex>=2021.8.3 in /usr/local/lib/python3.10/dist-packages (from nltk) (2022.10.31)\n",
            "Requirement already satisfied: tqdm in /usr/local/lib/python3.10/dist-packages (from nltk) (4.65.0)\n"
          ]
        }
      ],
      "source": [
        "! pip install nltk"
      ]
    },
    {
      "cell_type": "code",
      "source": [
        "from nltk import download\n",
        "download(\"wordnet\")"
      ],
      "metadata": {
        "colab": {
          "base_uri": "https://localhost:8080/"
        },
        "id": "rQTsPl8uxx7U",
        "outputId": "aa8630f2-660c-4c7a-a0ab-b2a99cfcc021"
      },
      "execution_count": null,
      "outputs": [
        {
          "output_type": "stream",
          "name": "stderr",
          "text": [
            "[nltk_data] Downloading package wordnet to /root/nltk_data...\n"
          ]
        },
        {
          "output_type": "execute_result",
          "data": {
            "text/plain": [
              "True"
            ]
          },
          "metadata": {},
          "execution_count": 2
        }
      ]
    },
    {
      "cell_type": "code",
      "source": [
        "from nltk.corpus import wordnet"
      ],
      "metadata": {
        "id": "fVG0nAmyyCS_"
      },
      "execution_count": null,
      "outputs": []
    },
    {
      "cell_type": "code",
      "source": [
        "# Synsets : synonym sets\n",
        "\n",
        "tractor = wordnet.synsets(\"tractor\")\n",
        "tractor"
      ],
      "metadata": {
        "colab": {
          "base_uri": "https://localhost:8080/"
        },
        "id": "o6UmwR_9yJPb",
        "outputId": "8ef99a75-7e24-4355-d6a8-0552cb607ea0"
      },
      "execution_count": null,
      "outputs": [
        {
          "output_type": "execute_result",
          "data": {
            "text/plain": [
              "[Synset('tractor.n.01'), Synset('tractor.n.02')]"
            ]
          },
          "metadata": {},
          "execution_count": 4
        }
      ]
    },
    {
      "cell_type": "markdown",
      "source": [
        "- It returns a list which contains two items both of which are Synsets :\n",
        "  - Synset('tractor.n.01') : one set of synynyms\n",
        "  - Synset('tractor.n.02') : another set of synonyms\n",
        "  - tractor.n.01 and tractor.n.02' : tractor has two noun forms.\n",
        "  - \"n\" represents : It's a noun word.\n",
        "  - tractor.n.01 :"
      ],
      "metadata": {
        "id": "uyFlglwVyqZz"
      }
    },
    {
      "cell_type": "code",
      "source": [
        "# Definition of Senses\n",
        "# Definitin of two entries in the tractor\n",
        "\n",
        "[syn.definition() for syn in tractor]"
      ],
      "metadata": {
        "colab": {
          "base_uri": "https://localhost:8080/"
        },
        "id": "c5j-NScRyjw-",
        "outputId": "7e440a8c-8316-44d8-d0d9-fde8dad59b0a"
      },
      "execution_count": null,
      "outputs": [
        {
          "output_type": "execute_result",
          "data": {
            "text/plain": [
              "['a wheeled vehicle with large wheels; used in farming and other applications',\n",
              " 'a truck that has a cab but no body; used for pulling large trailers or vans']"
            ]
          },
          "metadata": {},
          "execution_count": 7
        }
      ]
    },
    {
      "cell_type": "code",
      "source": [
        "# Hypernyms : Relation between a concepts and its superordinate\n",
        "\n",
        "tractor = wordnet.synset('tractor.n.01')\n",
        "tractor.hypernyms()"
      ],
      "metadata": {
        "colab": {
          "base_uri": "https://localhost:8080/"
        },
        "id": "7vQ2JGfzzwy8",
        "outputId": "6da56b18-5c15-4d34-bc95-2a615037c10b"
      },
      "execution_count": null,
      "outputs": [
        {
          "output_type": "execute_result",
          "data": {
            "text/plain": [
              "[Synset('self-propelled_vehicle.n.01')]"
            ]
          },
          "metadata": {},
          "execution_count": 10
        }
      ]
    },
    {
      "cell_type": "code",
      "source": [
        "self_propelled_vehicle = wordnet.synset(\"self-propelled_vehicle.n.01\")\n",
        "self_propelled_vehicle.hypernyms()"
      ],
      "metadata": {
        "colab": {
          "base_uri": "https://localhost:8080/"
        },
        "id": "I5eRXhl80eZF",
        "outputId": "40db6b86-57f1-4a8b-c7f7-0ddb2cdab8a6"
      },
      "execution_count": null,
      "outputs": [
        {
          "output_type": "execute_result",
          "data": {
            "text/plain": [
              "[Synset('wheeled_vehicle.n.01')]"
            ]
          },
          "metadata": {},
          "execution_count": 13
        }
      ]
    },
    {
      "cell_type": "code",
      "source": [
        "# Meronyms : Relation between a part and its whole\n",
        "\n",
        "wheeled_vehicle = wordnet.synset('wheeled_vehicle.n.01')\n",
        "wheeled_vehicle.part_meronyms()"
      ],
      "metadata": {
        "colab": {
          "base_uri": "https://localhost:8080/"
        },
        "id": "mbp8Fjd11RWj",
        "outputId": "76bad8ed-fade-4585-f032-92d0a1b01d47"
      },
      "execution_count": null,
      "outputs": [
        {
          "output_type": "execute_result",
          "data": {
            "text/plain": [
              "[Synset('axle.n.01'),\n",
              " Synset('brake.n.01'),\n",
              " Synset('splasher.n.01'),\n",
              " Synset('wheel.n.01')]"
            ]
          },
          "metadata": {},
          "execution_count": 15
        }
      ]
    },
    {
      "cell_type": "code",
      "source": [
        "# Hyponym : Relation between a concept and its subordinate\n",
        "# types of wheeled vehicles\n",
        "\n",
        "wheeled_vehicle.hyponyms()"
      ],
      "metadata": {
        "colab": {
          "base_uri": "https://localhost:8080/"
        },
        "id": "upjmWw_j2Ldl",
        "outputId": "d8e273b5-490c-49d5-d996-835a32c26e59"
      },
      "execution_count": null,
      "outputs": [
        {
          "output_type": "execute_result",
          "data": {
            "text/plain": [
              "[Synset('baby_buggy.n.01'),\n",
              " Synset('bicycle.n.01'),\n",
              " Synset('boneshaker.n.01'),\n",
              " Synset('car.n.02'),\n",
              " Synset('handcart.n.01'),\n",
              " Synset('horse-drawn_vehicle.n.01'),\n",
              " Synset('motor_scooter.n.01'),\n",
              " Synset('rolling_stock.n.01'),\n",
              " Synset('scooter.n.02'),\n",
              " Synset('self-propelled_vehicle.n.01'),\n",
              " Synset('skateboard.n.01'),\n",
              " Synset('trailer.n.04'),\n",
              " Synset('tricycle.n.01'),\n",
              " Synset('unicycle.n.01'),\n",
              " Synset('wagon.n.01'),\n",
              " Synset('wagon.n.04'),\n",
              " Synset('welcome_wagon.n.01')]"
            ]
          },
          "metadata": {},
          "execution_count": 17
        }
      ]
    },
    {
      "cell_type": "code",
      "source": [
        "# Holonym : Relations between whole and its parts\n",
        "\n",
        "axle = wordnet.synset('axle.n.01')\n",
        "axle.part_holonyms()"
      ],
      "metadata": {
        "colab": {
          "base_uri": "https://localhost:8080/"
        },
        "id": "Dk4lb8lRG6vU",
        "outputId": "8e6516e2-adf8-4405-a227-83b864fd0409"
      },
      "execution_count": null,
      "outputs": [
        {
          "output_type": "execute_result",
          "data": {
            "text/plain": [
              "[Synset('wheeled_vehicle.n.01')]"
            ]
          },
          "metadata": {},
          "execution_count": 18
        }
      ]
    },
    {
      "cell_type": "code",
      "source": [
        "self_propelled_vehicle.hyponyms()"
      ],
      "metadata": {
        "colab": {
          "base_uri": "https://localhost:8080/"
        },
        "id": "SAb0Kl_xHpcM",
        "outputId": "ff871383-17a6-4a0c-8a3f-4c24266047af"
      },
      "execution_count": null,
      "outputs": [
        {
          "output_type": "execute_result",
          "data": {
            "text/plain": [
              "[Synset('armored_vehicle.n.01'),\n",
              " Synset('carrier.n.02'),\n",
              " Synset('forklift.n.01'),\n",
              " Synset('locomotive.n.01'),\n",
              " Synset('motor_vehicle.n.01'),\n",
              " Synset('personnel_carrier.n.01'),\n",
              " Synset('reconnaissance_vehicle.n.01'),\n",
              " Synset('recreational_vehicle.n.01'),\n",
              " Synset('streetcar.n.01'),\n",
              " Synset('tracked_vehicle.n.01'),\n",
              " Synset('tractor.n.01'),\n",
              " Synset('weapons_carrier.n.01')]"
            ]
          },
          "metadata": {},
          "execution_count": 20
        }
      ]
    },
    {
      "cell_type": "code",
      "source": [
        "motor_vehicle = wordnet.synset('motor_vehicle.n.01')\n",
        "motor_vehicle.hyponyms()"
      ],
      "metadata": {
        "colab": {
          "base_uri": "https://localhost:8080/"
        },
        "id": "RIq2CvSPH6fX",
        "outputId": "eb4b49ef-5a93-4e69-fbcd-909d1e26ff38"
      },
      "execution_count": null,
      "outputs": [
        {
          "output_type": "execute_result",
          "data": {
            "text/plain": [
              "[Synset('amphibian.n.01'),\n",
              " Synset('bloodmobile.n.01'),\n",
              " Synset('car.n.01'),\n",
              " Synset('doodlebug.n.01'),\n",
              " Synset('four-wheel_drive.n.01'),\n",
              " Synset('go-kart.n.01'),\n",
              " Synset('golfcart.n.01'),\n",
              " Synset('hearse.n.01'),\n",
              " Synset('motorcycle.n.01'),\n",
              " Synset('snowplow.n.01'),\n",
              " Synset('truck.n.01')]"
            ]
          },
          "metadata": {},
          "execution_count": 22
        }
      ]
    },
    {
      "cell_type": "code",
      "source": [
        "car = wordnet.synset(\"car.n.01\")\n",
        "car.part_meronyms()"
      ],
      "metadata": {
        "colab": {
          "base_uri": "https://localhost:8080/"
        },
        "id": "V6E3sRo4ISBc",
        "outputId": "eb564ba4-f68d-4d62-b062-13de000ff1e7"
      },
      "execution_count": null,
      "outputs": [
        {
          "output_type": "execute_result",
          "data": {
            "text/plain": [
              "[Synset('accelerator.n.01'),\n",
              " Synset('air_bag.n.01'),\n",
              " Synset('auto_accessory.n.01'),\n",
              " Synset('automobile_engine.n.01'),\n",
              " Synset('automobile_horn.n.01'),\n",
              " Synset('buffer.n.06'),\n",
              " Synset('bumper.n.02'),\n",
              " Synset('car_door.n.01'),\n",
              " Synset('car_mirror.n.01'),\n",
              " Synset('car_seat.n.01'),\n",
              " Synset('car_window.n.01'),\n",
              " Synset('fender.n.01'),\n",
              " Synset('first_gear.n.01'),\n",
              " Synset('floorboard.n.02'),\n",
              " Synset('gasoline_engine.n.01'),\n",
              " Synset('glove_compartment.n.01'),\n",
              " Synset('grille.n.02'),\n",
              " Synset('high_gear.n.01'),\n",
              " Synset('hood.n.09'),\n",
              " Synset('luggage_compartment.n.01'),\n",
              " Synset('rear_window.n.01'),\n",
              " Synset('reverse.n.02'),\n",
              " Synset('roof.n.02'),\n",
              " Synset('running_board.n.01'),\n",
              " Synset('stabilizer_bar.n.01'),\n",
              " Synset('sunroof.n.01'),\n",
              " Synset('tail_fin.n.02'),\n",
              " Synset('third_gear.n.01'),\n",
              " Synset('window.n.02')]"
            ]
          },
          "metadata": {},
          "execution_count": 23
        }
      ]
    },
    {
      "cell_type": "code",
      "source": [],
      "metadata": {
        "id": "3spgoDn6Ilju"
      },
      "execution_count": null,
      "outputs": []
    }
  ]
}